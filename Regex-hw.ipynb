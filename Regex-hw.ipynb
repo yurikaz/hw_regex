{
 "cells": [
  {
   "cell_type": "markdown",
   "metadata": {},
   "source": [
    "# Домашнее задание к лекции \"Регулярные выражения\"\n",
    "Для зачета необходимо выполнить 4 задания.  \n",
    "Для зачета с отличием – все."
   ]
  },
  {
   "cell_type": "code",
   "execution_count": 2,
   "metadata": {},
   "outputs": [],
   "source": [
    "import re"
   ]
  },
  {
   "cell_type": "markdown",
   "metadata": {},
   "source": [
    "## Задание 1"
   ]
  },
  {
   "cell_type": "markdown",
   "metadata": {},
   "source": [
    "Напишите функцию, которая принимает на вход строку и проверяет является ли она валидным транспортным номером. Если да, то функция должна возвращать отдельно номер и регион."
   ]
  },
  {
   "cell_type": "code",
   "execution_count": 11,
   "metadata": {},
   "outputs": [
    {
     "name": "stdout",
     "output_type": "stream",
     "text": [
      "Автомобильный номер а16ам161 некорректен\n",
      "Автомобильный номер аa162ам161 некорректен\n",
      "Автомобильный номер а161ам161 корректен\n",
      "Автомобильный номер а231ам некорректен\n",
      "Автомобильный номер а161-ам161 некорректен\n",
      "Автомобильный номер д161ам161 некорректен\n",
      "Автомобильный номер а781ам61 корректен\n"
     ]
    }
   ],
   "source": [
    "nomer = ['а16ам161','аa162ам161','а161ам161','а231ам','а161-ам161','д161ам161', 'а781ам61']\n",
    "\n",
    "regex_nomer =r'[авекмнорстухАВЕКМНОРСТУХ]{1}[\\d]{3}[авекмнорстухАВЕКМНОРСТУХ]{2}[\\d]{2,3}' \n",
    "\n",
    "for n in nomer:\n",
    "    if re.match(regex_nomer, n):\n",
    "        print('Автомобильный номер {} корректен'.format(n))\n",
    "    else:\n",
    "        print('Автомобильный номер {} некорректен'.format(n))  "
   ]
  },
  {
   "cell_type": "markdown",
   "metadata": {},
   "source": [
    "## Задание 2"
   ]
  },
  {
   "cell_type": "markdown",
   "metadata": {},
   "source": [
    "Напишите функцию, которая проверяет e-mail адрес на валидность по стандарту RFC822: http://www.w3.org/Protocols/rfc822/. Для этого постарайтесь написать (в крайнем случае найти) самый полный шаблон для проверки e-mail адресов через регулярное выражение. Разберитесь и напишите примеры, какие ваш шаблон может не охватить."
   ]
  },
  {
   "cell_type": "code",
   "execution_count": 20,
   "metadata": {},
   "outputs": [
    {
     "name": "stdout",
     "output_type": "stream",
     "text": [
      "The email n.john.smith@gmail.com is a valid email\n",
      "The email 87victory@hotmail.com is a valid email\n",
      "The email !#mary-=@msca.net is invalid\n",
      "The email ya@ya.ru is invalid\n",
      "The email .@ya.com is invalid\n"
     ]
    }
   ],
   "source": [
    "emails = ['n.john.smith@gmail.com', '87victory@hotmail.com', '!#mary-=@msca.net','ya@ya.ru','.@ya.com']\n",
    "regex_mails = r'^((([0-9A-Za-z]{1}[\\w\\.]{1,}[0-9A-Za-z]{1})|([0-9А-Яа-я]{1}[-0-9А-Яа-я\\.]{1,}[0-9А-Яа-я]{1}))@([0-9A-Za-z]{2,}\\.){1,2}[A-Za-z]{2,})$'\n",
    "for email in emails:\n",
    "    if re.match(regex_mails, email):\n",
    "        print('The email {} is a valid email'.format(email))\n",
    "    else:\n",
    "        print('The email {} is invalid'.format(email)) "
   ]
  },
  {
   "cell_type": "markdown",
   "metadata": {},
   "source": [
    "## Задание 3\n",
    "Напишите функцию, которая будет удалять все последовательные повторы слов из заданной строки."
   ]
  },
  {
   "cell_type": "code",
   "execution_count": 22,
   "metadata": {},
   "outputs": [
    {
     "name": "stdout",
     "output_type": "stream",
     "text": [
      "Лечу я в баден зачем не знаю сам\n"
     ]
    }
   ],
   "source": [
    "s = \"Лечу лечу я в в баден-баден баден-баден зачем не знаю сам сам\"\n",
    "print( re.sub(r'\\b([^\\W\\d_]+)(\\s+\\1)+\\b', r'\\1', re.sub(r'\\W+', ' ', s).strip(), flags=re.I) )\n"
   ]
  },
  {
   "cell_type": "markdown",
   "metadata": {},
   "source": [
    "## Задание 4\n",
    "Напишите функцию, которая будет проверять номер сотового телефона на валидность, если он валиден, то переводить его в формат:   \n",
    "+7(xxx)-xxx-xx-xx  \n",
    "Постарайтесь предусмотреть как можно больше адекватных форматов изначального ввода номера.\n",
    "Примеры правильных и неправильных форматов:\n",
    "- +7 955 555-55-55;\n",
    "- 955555555;\n",
    "- 8(955)555-55-55;\n",
    "- +7 955 555 55 55;\n",
    "- 7(955) 555-55-55;\n",
    "- +7 955+555+55+55."
   ]
  },
  {
   "cell_type": "code",
   "execution_count": 27,
   "metadata": {},
   "outputs": [
    {
     "name": "stdout",
     "output_type": "stream",
     "text": [
      "Phone +7(955)-555-55-55 is valid\n",
      "Phone 955555555 is invalid\n",
      "Phone +7(955)-555-55-55 is valid\n",
      "Phone +7(955)-555-55-55 is valid\n",
      "Phone +7(955)-555-55-55 is valid\n"
     ]
    }
   ],
   "source": [
    "phones = ['+7 955 555-55-55', '955555555', '8(955)555-55-55','+7 955 555 55 55','7(955) 555-55-55']\n",
    "regex_phones = '\\+[\\d]{11}'\n",
    "for phone in phones:\n",
    "    new_phone = re.sub(r'^[78+]*', '+7', re.sub(r'\\W+', '', phone).strip())\n",
    "    if re.match(regex_phones, new_phone):\n",
    "        new_phone_format = re.sub(r'\\+7([\\d]{3})([\\d]{3})([\\d]{2})([\\d]{2})', r'+7(\\1)-\\2-\\3-\\4', new_phone)\n",
    "        print('Phone {} is valid'.format(new_phone_format))\n",
    "    else:\n",
    "        print('Phone {} is invalid'.format(phone)) "
   ]
  }
 ],
 "metadata": {
  "kernelspec": {
   "display_name": "Python 3",
   "language": "python",
   "name": "python3"
  },
  "language_info": {
   "codemirror_mode": {
    "name": "ipython",
    "version": 3
   },
   "file_extension": ".py",
   "mimetype": "text/x-python",
   "name": "python",
   "nbconvert_exporter": "python",
   "pygments_lexer": "ipython3",
   "version": "3.7.4"
  }
 },
 "nbformat": 4,
 "nbformat_minor": 2
}
